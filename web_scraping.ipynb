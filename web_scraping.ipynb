{
  "nbformat": 4,
  "nbformat_minor": 0,
  "metadata": {
    "colab": {
      "provenance": []
    },
    "kernelspec": {
      "name": "python3",
      "display_name": "Python 3"
    },
    "language_info": {
      "name": "python"
    }
  },
  "cells": [
    {
      "cell_type": "code",
      "execution_count": 1,
      "metadata": {
        "colab": {
          "base_uri": "https://localhost:8080/"
        },
        "id": "1n2I84O5jmth",
        "outputId": "bbf94e94-2e56-4f0b-c642-ad4f5872d765"
      },
      "outputs": [
        {
          "output_type": "stream",
          "name": "stdout",
          "text": [
            "Scraping: http://books.toscrape.com/catalogue/page-1.html\n",
            "Scraping: http://books.toscrape.com/catalogue/page-2.html\n",
            "Scraping: http://books.toscrape.com/catalogue/page-3.html\n",
            "Scraping: http://books.toscrape.com/catalogue/page-4.html\n",
            "Scraping: http://books.toscrape.com/catalogue/page-5.html\n",
            "Scraping: http://books.toscrape.com/catalogue/page-6.html\n",
            "Scraping: http://books.toscrape.com/catalogue/page-7.html\n",
            "Scraping: http://books.toscrape.com/catalogue/page-8.html\n",
            "Scraping: http://books.toscrape.com/catalogue/page-9.html\n",
            "Scraping: http://books.toscrape.com/catalogue/page-10.html\n",
            "Scraping: http://books.toscrape.com/catalogue/page-11.html\n",
            "Scraping: http://books.toscrape.com/catalogue/page-12.html\n",
            "Scraping: http://books.toscrape.com/catalogue/page-13.html\n",
            "Scraping: http://books.toscrape.com/catalogue/page-14.html\n",
            "Scraping: http://books.toscrape.com/catalogue/page-15.html\n",
            "Scraping: http://books.toscrape.com/catalogue/page-16.html\n",
            "Scraping: http://books.toscrape.com/catalogue/page-17.html\n",
            "Scraping: http://books.toscrape.com/catalogue/page-18.html\n",
            "Scraping: http://books.toscrape.com/catalogue/page-19.html\n",
            "Scraping: http://books.toscrape.com/catalogue/page-20.html\n",
            "Scraping: http://books.toscrape.com/catalogue/page-21.html\n",
            "Scraping: http://books.toscrape.com/catalogue/page-22.html\n",
            "Scraping: http://books.toscrape.com/catalogue/page-23.html\n",
            "Scraping: http://books.toscrape.com/catalogue/page-24.html\n",
            "Scraping: http://books.toscrape.com/catalogue/page-25.html\n",
            "Scraping: http://books.toscrape.com/catalogue/page-26.html\n",
            "Scraping: http://books.toscrape.com/catalogue/page-27.html\n",
            "Scraping: http://books.toscrape.com/catalogue/page-28.html\n",
            "Scraping: http://books.toscrape.com/catalogue/page-29.html\n",
            "Scraping: http://books.toscrape.com/catalogue/page-30.html\n",
            "Scraping: http://books.toscrape.com/catalogue/page-31.html\n",
            "Scraping: http://books.toscrape.com/catalogue/page-32.html\n",
            "Scraping: http://books.toscrape.com/catalogue/page-33.html\n",
            "Scraping: http://books.toscrape.com/catalogue/page-34.html\n",
            "Scraping: http://books.toscrape.com/catalogue/page-35.html\n",
            "Scraping: http://books.toscrape.com/catalogue/page-36.html\n",
            "Scraping: http://books.toscrape.com/catalogue/page-37.html\n",
            "Scraping: http://books.toscrape.com/catalogue/page-38.html\n",
            "Scraping: http://books.toscrape.com/catalogue/page-39.html\n",
            "Scraping: http://books.toscrape.com/catalogue/page-40.html\n",
            "Scraping: http://books.toscrape.com/catalogue/page-41.html\n",
            "Scraping: http://books.toscrape.com/catalogue/page-42.html\n",
            "Scraping: http://books.toscrape.com/catalogue/page-43.html\n",
            "Scraping: http://books.toscrape.com/catalogue/page-44.html\n",
            "Scraping: http://books.toscrape.com/catalogue/page-45.html\n",
            "Scraping: http://books.toscrape.com/catalogue/page-46.html\n",
            "Scraping: http://books.toscrape.com/catalogue/page-47.html\n",
            "Scraping: http://books.toscrape.com/catalogue/page-48.html\n",
            "Scraping: http://books.toscrape.com/catalogue/page-49.html\n",
            "Scraping: http://books.toscrape.com/catalogue/page-50.html\n",
            "✅ Data successfully scraped to 'scraped_books.csv'\n"
          ]
        }
      ],
      "source": [
        "import requests\n",
        "from bs4 import BeautifulSoup\n",
        "import csv\n",
        "\n",
        "# Target URL\n",
        "url = \"http://books.toscrape.com/catalogue/page-1.html\"\n",
        "\n",
        "# CSV setup\n",
        "filename = \"scraped_books.csv\"\n",
        "headers = [\"Title\", \"Price\", \"Availability\"]\n",
        "csv_file = open(filename, mode=\"w\", newline=\"\", encoding=\"utf-8\")\n",
        "writer = csv.writer(csv_file)\n",
        "writer.writerow(headers)\n",
        "\n",
        "# Pagination scraping loop\n",
        "while url:\n",
        "    print(f\"Scraping: {url}\")\n",
        "    response = requests.get(url)\n",
        "    soup = BeautifulSoup(response.text, \"html.parser\")\n",
        "\n",
        "    books = soup.select(\"article.product_pod\")\n",
        "    for book in books:\n",
        "        title = book.h3.a[\"title\"]\n",
        "        price = book.select_one(\"p.price_color\").text\n",
        "        availability = book.select_one(\"p.instock.availability\").text.strip()\n",
        "        writer.writerow([title, price, availability])\n",
        "\n",
        "    # Check for next page\n",
        "    next_page = soup.select_one(\"li.next > a\")\n",
        "    if next_page:\n",
        "        next_page_url = next_page[\"href\"]\n",
        "        base = url.rsplit(\"/\", 1)[0]\n",
        "        url = f\"{base}/{next_page_url}\"\n",
        "    else:\n",
        "        url = None\n",
        "\n",
        "csv_file.close()\n",
        "print(\"✅ Data successfully scraped to 'scraped_books.csv'\")\n"
      ]
    },
    {
      "cell_type": "code",
      "source": [],
      "metadata": {
        "id": "Bs_neJDTjnqV"
      },
      "execution_count": null,
      "outputs": []
    }
  ]
}